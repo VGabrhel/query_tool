{
 "cells": [
  {
   "cell_type": "code",
   "execution_count": 1,
   "metadata": {},
   "outputs": [],
   "source": [
    "# Import necessary libraries\n",
    "import pandas as pd\n",
    "from dotenv import load_dotenv\n",
    "from query_tool import DatabaseQueryTool\n",
    "from utils import read_sql_file\n",
    "import os\n",
    "\n",
    "# Load environment variables\n",
    "load_dotenv('config/.env')\n",
    "\n",
    "# Load configurations from environment variables\n",
    "snowflake_config = {\n",
    "    \"user\": os.getenv(\"SNOWFLAKE_USER\"),\n",
    "    \"password\": os.getenv(\"SNOWFLAKE_PASSWORD\"),\n",
    "    \"account\": os.getenv(\"SNOWFLAKE_ACCOUNT\"),\n",
    "    \"warehouse\": os.getenv(\"SNOWFLAKE_WAREHOUSE\"),\n",
    "    \"database\": os.getenv(\"SNOWFLAKE_DATABASE\"),\n",
    "    \"schema\": os.getenv(\"SNOWFLAKE_SCHEMA\"),\n",
    "}\n",
    "\n",
    "bigquery_config = {\n",
    "    \"project\": os.getenv(\"BIGQUERY_PROJECT_ID\"),\n",
    "    \"credentials\": os.getenv(\"BIGQUERY_CREDENTIALS_FILE\"),\n",
    "}"
   ]
  },
  {
   "cell_type": "code",
   "execution_count": 2,
   "metadata": {},
   "outputs": [],
   "source": [
    "# Initialize the query tool\n",
    "query_tool = DatabaseQueryTool(snowflake_config, bigquery_config)"
   ]
  },
  {
   "cell_type": "code",
   "execution_count": 3,
   "metadata": {},
   "outputs": [],
   "source": [
    "# Read SQL queries from files\n",
    "snowflake_query = read_sql_file(\"queries/snowflake_query.sql\")\n",
    "bigquery_query = read_sql_file(\"queries/bigquery_query.sql\")"
   ]
  },
  {
   "cell_type": "code",
   "execution_count": 4,
   "metadata": {},
   "outputs": [
    {
     "name": "stderr",
     "output_type": "stream",
     "text": [
      "INFO:root:Executing query on BigQuery...\n",
      "INFO:root:Initializing BigQuery client...\n"
     ]
    },
    {
     "name": "stdout",
     "output_type": "stream",
     "text": [
      "Running BigQuery query...\n"
     ]
    },
    {
     "name": "stderr",
     "output_type": "stream",
     "text": [
      "INFO:root:BigQuery: Rows=704187, Columns=10, Data=0.00 MB, Time=1.48 seconds.\n"
     ]
    },
    {
     "name": "stdout",
     "output_type": "stream",
     "text": [
      "BigQuery query completed. Retrieved 704187 rows.\n"
     ]
    }
   ],
   "source": [
    "# Execute query on BigQuery\n",
    "print(\"Running BigQuery query...\")\n",
    "bigquery_df = query_tool.query_bigquery(bigquery_query)\n",
    "print(f\"BigQuery query completed. Retrieved {len(bigquery_df)} rows.\")\n"
   ]
  },
  {
   "cell_type": "code",
   "execution_count": 5,
   "metadata": {},
   "outputs": [
    {
     "name": "stderr",
     "output_type": "stream",
     "text": [
      "INFO:root:Executing query on Snowflake...\n",
      "INFO:root:Initializing Snowflake connection...\n",
      "INFO:snowflake.connector.connection:Snowflake Connector for Python Version: 3.12.3, Python Version: 3.12.4, Platform: macOS-14.3-arm64-arm-64bit\n",
      "INFO:snowflake.connector.connection:Connecting to GLOBAL Snowflake domain\n",
      "INFO:snowflake.connector.connection:This connection is in OCSP Fail Open Mode. TLS Certificates would be checked for validity and revocation status. Any other Certificate Revocation related exceptions or OCSP Responder failures would be disregarded in favor of connectivity.\n"
     ]
    },
    {
     "name": "stdout",
     "output_type": "stream",
     "text": [
      "Running Snowflake query...\n"
     ]
    },
    {
     "name": "stderr",
     "output_type": "stream",
     "text": [
      "INFO:snowflake.connector.cursor:Number of results in first chunk: 0\n",
      "INFO:root:Snowflake Query Completed: Rows=14481, Columns=9, Processing Time=1.43 seconds.\n"
     ]
    },
    {
     "name": "stdout",
     "output_type": "stream",
     "text": [
      "Snowflake query completed. Retrieved 14481 rows.\n"
     ]
    }
   ],
   "source": [
    "# Execute query on Snowflake\n",
    "print(\"Running Snowflake query...\")\n",
    "snowflake_df = query_tool.query_snowflake(snowflake_query)\n",
    "print(f\"Snowflake query completed. Retrieved {len(snowflake_df)} rows.\")"
   ]
  },
  {
   "cell_type": "code",
   "execution_count": 6,
   "metadata": {},
   "outputs": [
    {
     "name": "stderr",
     "output_type": "stream",
     "text": [
      "INFO:root:Joining results...\n",
      "INFO:root:Initial df1 shape: (704187, 10), df2 shape: (14481, 9)\n"
     ]
    },
    {
     "name": "stdout",
     "output_type": "stream",
     "text": [
      "Performing left join on orders, users, and items as skus...\n"
     ]
    },
    {
     "name": "stderr",
     "output_type": "stream",
     "text": [
      "WARNING:root:Number of duplicated rows in joined DataFrame: 9136\n",
      "INFO:root:Shape of joined DataFrame: (39267, 16)\n",
      "INFO:root:Shape of final output DataFrame: (39267, 9)\n"
     ]
    }
   ],
   "source": [
    "# Inner Join Results\n",
    "print(\"Performing left join on orders, users, and items as skus...\")\n",
    "join_columns = [\"order_id\", \"user_id\", \"item_sku\"]\n",
    "output_columns = [\n",
    "    \"event_timestamp_utc\", \"order_id\", \"user_id\", \"event_action\", \"item_sku\", \"item_price\", \"traffic_source\",\n",
    "    \"user_country\", \"device_category\"\n",
    "]\n",
    "\n",
    "result_df = query_tool.join_results(bigquery_df, snowflake_df, join_columns, output_columns)"
   ]
  },
  {
   "cell_type": "code",
   "execution_count": 7,
   "metadata": {},
   "outputs": [
    {
     "name": "stdout",
     "output_type": "stream",
     "text": [
      "Left join completed. Here are the first few rows of the result:\n",
      "        event_timestamp_utc    order_id              user_id     event_action  \\\n",
      "0 2016-11-23 18:23:30+00:00  1479925410  6298528466956890303  Quickview Click   \n",
      "1 2016-11-23 18:23:30+00:00  1479925410  6298528466956890303  Quickview Click   \n",
      "2 2016-11-23 18:23:30+00:00  1479925410  6298528466956890303  Quickview Click   \n",
      "3 2016-11-23 18:23:30+00:00  1479925410  6298528466956890303  Quickview Click   \n",
      "4 2016-11-23 18:23:30+00:00  1479925410  6298528466956890303  Quickview Click   \n",
      "\n",
      "       item_sku item_price    traffic_source   user_country device_category  \n",
      "0  GGOEGAAX0231    3990000  sites.google.com  United States         desktop  \n",
      "1  GGOEGAAX0231    4990000  sites.google.com  United States         desktop  \n",
      "2  GGOEGAAX0231    4990000  sites.google.com  United States         desktop  \n",
      "3  GGOEGAAX0231    4990000  sites.google.com  United States         desktop  \n",
      "4  GGOEGAAX0098    1200000  sites.google.com  United States         desktop  \n"
     ]
    }
   ],
   "source": [
    "# Output results\n",
    "print(\"Left join completed. Here are the first few rows of the result:\")\n",
    "print(result_df.head())"
   ]
  },
  {
   "cell_type": "code",
   "execution_count": 8,
   "metadata": {},
   "outputs": [],
   "source": [
    "# Add a new column to the result - if the event_action is \"Add to Cart\", then the new column \"is_purchase\" should be 1, otherwise 0.\n",
    "result_df[\"is_purchase\"] = result_df[\"event_action\"].apply(lambda x: 1 if x == \"Add to Cart\" else 0)"
   ]
  },
  {
   "cell_type": "code",
   "execution_count": 9,
   "metadata": {},
   "outputs": [
    {
     "name": "stderr",
     "output_type": "stream",
     "text": [
      "INFO:snowflake.connector.cursor:Number of results in first chunk: 1\n",
      "INFO:root:Successfully inserted 39267 rows into Snowflake table '\"orders_items_events\"'.\n"
     ]
    },
    {
     "data": {
      "text/html": [
       "<div>\n",
       "<style scoped>\n",
       "    .dataframe tbody tr th:only-of-type {\n",
       "        vertical-align: middle;\n",
       "    }\n",
       "\n",
       "    .dataframe tbody tr th {\n",
       "        vertical-align: top;\n",
       "    }\n",
       "\n",
       "    .dataframe thead th {\n",
       "        text-align: right;\n",
       "    }\n",
       "</style>\n",
       "<table border=\"1\" class=\"dataframe\">\n",
       "  <thead>\n",
       "    <tr style=\"text-align: right;\">\n",
       "      <th></th>\n",
       "      <th>event_timestamp_utc</th>\n",
       "      <th>order_id</th>\n",
       "      <th>user_id</th>\n",
       "      <th>event_action</th>\n",
       "      <th>item_sku</th>\n",
       "      <th>item_price</th>\n",
       "      <th>traffic_source</th>\n",
       "      <th>user_country</th>\n",
       "      <th>device_category</th>\n",
       "      <th>is_purchase</th>\n",
       "    </tr>\n",
       "  </thead>\n",
       "  <tbody>\n",
       "    <tr>\n",
       "      <th>0</th>\n",
       "      <td>2016-11-23 18:23:30</td>\n",
       "      <td>1479925410</td>\n",
       "      <td>6298528466956890303</td>\n",
       "      <td>Quickview Click</td>\n",
       "      <td>GGOEGAAX0231</td>\n",
       "      <td>3990000</td>\n",
       "      <td>sites.google.com</td>\n",
       "      <td>United States</td>\n",
       "      <td>desktop</td>\n",
       "      <td>0</td>\n",
       "    </tr>\n",
       "    <tr>\n",
       "      <th>1</th>\n",
       "      <td>2016-11-23 18:23:30</td>\n",
       "      <td>1479925410</td>\n",
       "      <td>6298528466956890303</td>\n",
       "      <td>Quickview Click</td>\n",
       "      <td>GGOEGAAX0231</td>\n",
       "      <td>4990000</td>\n",
       "      <td>sites.google.com</td>\n",
       "      <td>United States</td>\n",
       "      <td>desktop</td>\n",
       "      <td>0</td>\n",
       "    </tr>\n",
       "    <tr>\n",
       "      <th>2</th>\n",
       "      <td>2016-11-23 18:23:30</td>\n",
       "      <td>1479925410</td>\n",
       "      <td>6298528466956890303</td>\n",
       "      <td>Quickview Click</td>\n",
       "      <td>GGOEGAAX0231</td>\n",
       "      <td>4990000</td>\n",
       "      <td>sites.google.com</td>\n",
       "      <td>United States</td>\n",
       "      <td>desktop</td>\n",
       "      <td>0</td>\n",
       "    </tr>\n",
       "    <tr>\n",
       "      <th>3</th>\n",
       "      <td>2016-11-23 18:23:30</td>\n",
       "      <td>1479925410</td>\n",
       "      <td>6298528466956890303</td>\n",
       "      <td>Quickview Click</td>\n",
       "      <td>GGOEGAAX0231</td>\n",
       "      <td>4990000</td>\n",
       "      <td>sites.google.com</td>\n",
       "      <td>United States</td>\n",
       "      <td>desktop</td>\n",
       "      <td>0</td>\n",
       "    </tr>\n",
       "    <tr>\n",
       "      <th>4</th>\n",
       "      <td>2016-11-23 18:23:30</td>\n",
       "      <td>1479925410</td>\n",
       "      <td>6298528466956890303</td>\n",
       "      <td>Quickview Click</td>\n",
       "      <td>GGOEGAAX0098</td>\n",
       "      <td>1200000</td>\n",
       "      <td>sites.google.com</td>\n",
       "      <td>United States</td>\n",
       "      <td>desktop</td>\n",
       "      <td>0</td>\n",
       "    </tr>\n",
       "    <tr>\n",
       "      <th>...</th>\n",
       "      <td>...</td>\n",
       "      <td>...</td>\n",
       "      <td>...</td>\n",
       "      <td>...</td>\n",
       "      <td>...</td>\n",
       "      <td>...</td>\n",
       "      <td>...</td>\n",
       "      <td>...</td>\n",
       "      <td>...</td>\n",
       "      <td>...</td>\n",
       "    </tr>\n",
       "    <tr>\n",
       "      <th>39262</th>\n",
       "      <td>2016-08-05 09:44:23</td>\n",
       "      <td>1470390263</td>\n",
       "      <td>7467888750938090707</td>\n",
       "      <td>Add to Cart</td>\n",
       "      <td>GGOEGBRJ037299</td>\n",
       "      <td>99990000</td>\n",
       "      <td>analytics.google.com</td>\n",
       "      <td>Germany</td>\n",
       "      <td>desktop</td>\n",
       "      <td>1</td>\n",
       "    </tr>\n",
       "    <tr>\n",
       "      <th>39263</th>\n",
       "      <td>2016-08-05 09:44:23</td>\n",
       "      <td>1470390263</td>\n",
       "      <td>7467888750938090707</td>\n",
       "      <td>Add to Cart</td>\n",
       "      <td>GGOEGBRJ037299</td>\n",
       "      <td>79990000</td>\n",
       "      <td>analytics.google.com</td>\n",
       "      <td>Germany</td>\n",
       "      <td>desktop</td>\n",
       "      <td>1</td>\n",
       "    </tr>\n",
       "    <tr>\n",
       "      <th>39264</th>\n",
       "      <td>2016-08-05 09:44:23</td>\n",
       "      <td>1470390263</td>\n",
       "      <td>7467888750938090707</td>\n",
       "      <td>Add to Cart</td>\n",
       "      <td>GGOEGBRJ037299</td>\n",
       "      <td>99990000</td>\n",
       "      <td>analytics.google.com</td>\n",
       "      <td>Germany</td>\n",
       "      <td>desktop</td>\n",
       "      <td>1</td>\n",
       "    </tr>\n",
       "    <tr>\n",
       "      <th>39265</th>\n",
       "      <td>2016-08-05 09:44:23</td>\n",
       "      <td>1470390263</td>\n",
       "      <td>7467888750938090707</td>\n",
       "      <td>Add to Cart</td>\n",
       "      <td>GGOEGBRJ037299</td>\n",
       "      <td>79990000</td>\n",
       "      <td>analytics.google.com</td>\n",
       "      <td>Germany</td>\n",
       "      <td>desktop</td>\n",
       "      <td>1</td>\n",
       "    </tr>\n",
       "    <tr>\n",
       "      <th>39266</th>\n",
       "      <td>2016-08-05 09:44:23</td>\n",
       "      <td>1470390263</td>\n",
       "      <td>7467888750938090707</td>\n",
       "      <td>Add to Cart</td>\n",
       "      <td>GGOEGBRJ037299</td>\n",
       "      <td>99990000</td>\n",
       "      <td>analytics.google.com</td>\n",
       "      <td>Germany</td>\n",
       "      <td>desktop</td>\n",
       "      <td>1</td>\n",
       "    </tr>\n",
       "  </tbody>\n",
       "</table>\n",
       "<p>39267 rows × 10 columns</p>\n",
       "</div>"
      ],
      "text/plain": [
       "       event_timestamp_utc    order_id              user_id     event_action  \\\n",
       "0      2016-11-23 18:23:30  1479925410  6298528466956890303  Quickview Click   \n",
       "1      2016-11-23 18:23:30  1479925410  6298528466956890303  Quickview Click   \n",
       "2      2016-11-23 18:23:30  1479925410  6298528466956890303  Quickview Click   \n",
       "3      2016-11-23 18:23:30  1479925410  6298528466956890303  Quickview Click   \n",
       "4      2016-11-23 18:23:30  1479925410  6298528466956890303  Quickview Click   \n",
       "...                    ...         ...                  ...              ...   \n",
       "39262  2016-08-05 09:44:23  1470390263  7467888750938090707      Add to Cart   \n",
       "39263  2016-08-05 09:44:23  1470390263  7467888750938090707      Add to Cart   \n",
       "39264  2016-08-05 09:44:23  1470390263  7467888750938090707      Add to Cart   \n",
       "39265  2016-08-05 09:44:23  1470390263  7467888750938090707      Add to Cart   \n",
       "39266  2016-08-05 09:44:23  1470390263  7467888750938090707      Add to Cart   \n",
       "\n",
       "             item_sku item_price        traffic_source   user_country  \\\n",
       "0        GGOEGAAX0231    3990000      sites.google.com  United States   \n",
       "1        GGOEGAAX0231    4990000      sites.google.com  United States   \n",
       "2        GGOEGAAX0231    4990000      sites.google.com  United States   \n",
       "3        GGOEGAAX0231    4990000      sites.google.com  United States   \n",
       "4        GGOEGAAX0098    1200000      sites.google.com  United States   \n",
       "...               ...        ...                   ...            ...   \n",
       "39262  GGOEGBRJ037299   99990000  analytics.google.com        Germany   \n",
       "39263  GGOEGBRJ037299   79990000  analytics.google.com        Germany   \n",
       "39264  GGOEGBRJ037299   99990000  analytics.google.com        Germany   \n",
       "39265  GGOEGBRJ037299   79990000  analytics.google.com        Germany   \n",
       "39266  GGOEGBRJ037299   99990000  analytics.google.com        Germany   \n",
       "\n",
       "      device_category  is_purchase  \n",
       "0             desktop            0  \n",
       "1             desktop            0  \n",
       "2             desktop            0  \n",
       "3             desktop            0  \n",
       "4             desktop            0  \n",
       "...               ...          ...  \n",
       "39262         desktop            1  \n",
       "39263         desktop            1  \n",
       "39264         desktop            1  \n",
       "39265         desktop            1  \n",
       "39266         desktop            1  \n",
       "\n",
       "[39267 rows x 10 columns]"
      ]
     },
     "execution_count": 9,
     "metadata": {},
     "output_type": "execute_result"
    }
   ],
   "source": [
    "# Write the result_df to a Snowflake table named \"orders_items_events\"\n",
    "table_name = '\"orders_items_events\"'\n",
    "query_tool.write_to_snowflake(result_df, table_name)"
   ]
  },
  {
   "cell_type": "code",
   "execution_count": 10,
   "metadata": {},
   "outputs": [
    {
     "data": {
      "text/html": [
       "<div>\n",
       "<style scoped>\n",
       "    .dataframe tbody tr th:only-of-type {\n",
       "        vertical-align: middle;\n",
       "    }\n",
       "\n",
       "    .dataframe tbody tr th {\n",
       "        vertical-align: top;\n",
       "    }\n",
       "\n",
       "    .dataframe thead th {\n",
       "        text-align: right;\n",
       "    }\n",
       "</style>\n",
       "<table border=\"1\" class=\"dataframe\">\n",
       "  <thead>\n",
       "    <tr style=\"text-align: right;\">\n",
       "      <th></th>\n",
       "      <th>source</th>\n",
       "      <th>query</th>\n",
       "      <th>row_count</th>\n",
       "      <th>col_count</th>\n",
       "      <th>data_mb</th>\n",
       "      <th>time_sec</th>\n",
       "      <th>timestamp</th>\n",
       "    </tr>\n",
       "  </thead>\n",
       "  <tbody>\n",
       "    <tr>\n",
       "      <th>0</th>\n",
       "      <td>BigQuery</td>\n",
       "      <td>SELECT \\n  event_timestamp_utc,\\n  event_actio...</td>\n",
       "      <td>704187</td>\n",
       "      <td>10</td>\n",
       "      <td>0.0</td>\n",
       "      <td>1.482298</td>\n",
       "      <td>2024-11-25 12:33:04</td>\n",
       "    </tr>\n",
       "    <tr>\n",
       "      <th>1</th>\n",
       "      <td>Snowflake</td>\n",
       "      <td>SELECT \\n    \"order_date\", \\n    \"order_id\", \\...</td>\n",
       "      <td>14481</td>\n",
       "      <td>9</td>\n",
       "      <td>NaN</td>\n",
       "      <td>1.427480</td>\n",
       "      <td>2024-11-25 12:33:06</td>\n",
       "    </tr>\n",
       "  </tbody>\n",
       "</table>\n",
       "</div>"
      ],
      "text/plain": [
       "      source                                              query  row_count  \\\n",
       "0   BigQuery  SELECT \\n  event_timestamp_utc,\\n  event_actio...     704187   \n",
       "1  Snowflake  SELECT \\n    \"order_date\", \\n    \"order_id\", \\...      14481   \n",
       "\n",
       "   col_count  data_mb  time_sec            timestamp  \n",
       "0         10      0.0  1.482298  2024-11-25 12:33:04  \n",
       "1          9      NaN  1.427480  2024-11-25 12:33:06  "
      ]
     },
     "execution_count": 10,
     "metadata": {},
     "output_type": "execute_result"
    }
   ],
   "source": [
    "## Import logs\n",
    "import_logs = query_tool.import_logs\n",
    "import_logs\n"
   ]
  },
  {
   "cell_type": "code",
   "execution_count": 11,
   "metadata": {},
   "outputs": [
    {
     "data": {
      "text/html": [
       "<div>\n",
       "<style scoped>\n",
       "    .dataframe tbody tr th:only-of-type {\n",
       "        vertical-align: middle;\n",
       "    }\n",
       "\n",
       "    .dataframe tbody tr th {\n",
       "        vertical-align: top;\n",
       "    }\n",
       "\n",
       "    .dataframe thead th {\n",
       "        text-align: right;\n",
       "    }\n",
       "</style>\n",
       "<table border=\"1\" class=\"dataframe\">\n",
       "  <thead>\n",
       "    <tr style=\"text-align: right;\">\n",
       "      <th></th>\n",
       "      <th>df1_shape</th>\n",
       "      <th>df2_shape</th>\n",
       "      <th>join_columns</th>\n",
       "      <th>output_columns</th>\n",
       "      <th>result_shape</th>\n",
       "      <th>duplicate_rows</th>\n",
       "      <th>timestamp</th>\n",
       "      <th>duplicated_rows</th>\n",
       "    </tr>\n",
       "  </thead>\n",
       "  <tbody>\n",
       "    <tr>\n",
       "      <th>0</th>\n",
       "      <td>(704187, 10)</td>\n",
       "      <td>(14481, 9)</td>\n",
       "      <td>[order_id, user_id, item_sku]</td>\n",
       "      <td>[event_timestamp_utc, order_id, user_id, event...</td>\n",
       "      <td>(39267, 16)</td>\n",
       "      <td>NaN</td>\n",
       "      <td>2024-11-25 12:33:06</td>\n",
       "      <td>9136.0</td>\n",
       "    </tr>\n",
       "  </tbody>\n",
       "</table>\n",
       "</div>"
      ],
      "text/plain": [
       "      df1_shape   df2_shape                   join_columns  \\\n",
       "0  (704187, 10)  (14481, 9)  [order_id, user_id, item_sku]   \n",
       "\n",
       "                                      output_columns result_shape  \\\n",
       "0  [event_timestamp_utc, order_id, user_id, event...  (39267, 16)   \n",
       "\n",
       "  duplicate_rows            timestamp  duplicated_rows  \n",
       "0            NaN  2024-11-25 12:33:06           9136.0  "
      ]
     },
     "execution_count": 11,
     "metadata": {},
     "output_type": "execute_result"
    }
   ],
   "source": [
    "## Join logs\n",
    "join_logs = query_tool.join_logs\n",
    "join_logs"
   ]
  }
 ],
 "metadata": {
  "kernelspec": {
   "display_name": ".venv",
   "language": "python",
   "name": "python3"
  },
  "language_info": {
   "codemirror_mode": {
    "name": "ipython",
    "version": 3
   },
   "file_extension": ".py",
   "mimetype": "text/x-python",
   "name": "python",
   "nbconvert_exporter": "python",
   "pygments_lexer": "ipython3",
   "version": "3.12.4"
  }
 },
 "nbformat": 4,
 "nbformat_minor": 2
}
